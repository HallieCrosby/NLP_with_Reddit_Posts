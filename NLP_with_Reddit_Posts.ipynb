{
 "cells": [
  {
   "cell_type": "markdown",
   "metadata": {},
   "source": [
    "- Does polarizing posts lead to more comments\n",
    "- Click bait (Formed as questions) lead to more comments...build bag of words for click bait.\n",
    "- sentiment text analysis for which tech tool are most proneinent...what other words is python correlated with?"
   ]
  },
  {
   "cell_type": "code",
   "execution_count": 30,
   "metadata": {},
   "outputs": [],
   "source": [
    "import pandas as pd\n",
    "from sklearn.feature_extraction.text import CountVectorizer\n",
    "from sklearn.decomposition import LatentDirichletAllocation\n",
    "from sklearn.preprocessing import FunctionTransformer\n",
    "from sklearn.base import BaseEstimator, TransformerMixin\n",
    "from sklearn.pipeline import make_pipeline, make_union"
   ]
  },
  {
   "cell_type": "code",
   "execution_count": 3,
   "metadata": {},
   "outputs": [],
   "source": [
    "df = pd.read_csv('/Users/Hallie/GA/project-4/project-4/reddit_posts.csv')"
   ]
  },
  {
   "cell_type": "code",
   "execution_count": 4,
   "metadata": {},
   "outputs": [
    {
     "data": {
      "text/html": [
       "<div>\n",
       "<style scoped>\n",
       "    .dataframe tbody tr th:only-of-type {\n",
       "        vertical-align: middle;\n",
       "    }\n",
       "\n",
       "    .dataframe tbody tr th {\n",
       "        vertical-align: top;\n",
       "    }\n",
       "\n",
       "    .dataframe thead th {\n",
       "        text-align: right;\n",
       "    }\n",
       "</style>\n",
       "<table border=\"1\" class=\"dataframe\">\n",
       "  <thead>\n",
       "    <tr style=\"text-align: right;\">\n",
       "      <th></th>\n",
       "      <th>adserver_click_url</th>\n",
       "      <th>adserver_imp_pixel</th>\n",
       "      <th>archived</th>\n",
       "      <th>author</th>\n",
       "      <th>author_flair_css_class</th>\n",
       "      <th>author_flair_text</th>\n",
       "      <th>contest_mode</th>\n",
       "      <th>created_utc</th>\n",
       "      <th>disable_comments</th>\n",
       "      <th>distinguished</th>\n",
       "      <th>...</th>\n",
       "      <th>spoiler</th>\n",
       "      <th>stickied</th>\n",
       "      <th>subreddit</th>\n",
       "      <th>subreddit_id</th>\n",
       "      <th>third_party_tracking</th>\n",
       "      <th>third_party_tracking_2</th>\n",
       "      <th>thumbnail</th>\n",
       "      <th>title</th>\n",
       "      <th>ups</th>\n",
       "      <th>url</th>\n",
       "    </tr>\n",
       "  </thead>\n",
       "  <tbody>\n",
       "    <tr>\n",
       "      <th>0</th>\n",
       "      <td>NaN</td>\n",
       "      <td>NaN</td>\n",
       "      <td>False</td>\n",
       "      <td>johnnyawesome0</td>\n",
       "      <td>NaN</td>\n",
       "      <td>NaN</td>\n",
       "      <td>False</td>\n",
       "      <td>1480697304</td>\n",
       "      <td>NaN</td>\n",
       "      <td>NaN</td>\n",
       "      <td>...</td>\n",
       "      <td>False</td>\n",
       "      <td>False</td>\n",
       "      <td>techsupport</td>\n",
       "      <td>t5_2qioo</td>\n",
       "      <td>NaN</td>\n",
       "      <td>NaN</td>\n",
       "      <td>self</td>\n",
       "      <td>Help with audio set-up</td>\n",
       "      <td>1.0</td>\n",
       "      <td>https://www.reddit.com/r/techsupport/comments/...</td>\n",
       "    </tr>\n",
       "    <tr>\n",
       "      <th>1</th>\n",
       "      <td>NaN</td>\n",
       "      <td>NaN</td>\n",
       "      <td>False</td>\n",
       "      <td>Silverfin113</td>\n",
       "      <td>NaN</td>\n",
       "      <td>NaN</td>\n",
       "      <td>False</td>\n",
       "      <td>1480697424</td>\n",
       "      <td>NaN</td>\n",
       "      <td>NaN</td>\n",
       "      <td>...</td>\n",
       "      <td>False</td>\n",
       "      <td>False</td>\n",
       "      <td>learnprogramming</td>\n",
       "      <td>t5_2r7yd</td>\n",
       "      <td>NaN</td>\n",
       "      <td>NaN</td>\n",
       "      <td>self</td>\n",
       "      <td>Optimizing code for speed</td>\n",
       "      <td>23.0</td>\n",
       "      <td>https://www.reddit.com/r/learnprogramming/comm...</td>\n",
       "    </tr>\n",
       "    <tr>\n",
       "      <th>2</th>\n",
       "      <td>NaN</td>\n",
       "      <td>NaN</td>\n",
       "      <td>False</td>\n",
       "      <td>bookbooksbooks</td>\n",
       "      <td>NaN</td>\n",
       "      <td>NaN</td>\n",
       "      <td>False</td>\n",
       "      <td>1480697613</td>\n",
       "      <td>NaN</td>\n",
       "      <td>NaN</td>\n",
       "      <td>...</td>\n",
       "      <td>False</td>\n",
       "      <td>False</td>\n",
       "      <td>gamedev</td>\n",
       "      <td>t5_2qi0a</td>\n",
       "      <td>NaN</td>\n",
       "      <td>NaN</td>\n",
       "      <td>self</td>\n",
       "      <td>Seeking Tales of Development Woe (and Triumph)...</td>\n",
       "      <td>12.0</td>\n",
       "      <td>https://www.reddit.com/r/gamedev/comments/5g4a...</td>\n",
       "    </tr>\n",
       "    <tr>\n",
       "      <th>3</th>\n",
       "      <td>NaN</td>\n",
       "      <td>NaN</td>\n",
       "      <td>False</td>\n",
       "      <td>[deleted]</td>\n",
       "      <td>NaN</td>\n",
       "      <td>NaN</td>\n",
       "      <td>False</td>\n",
       "      <td>1480697634</td>\n",
       "      <td>NaN</td>\n",
       "      <td>NaN</td>\n",
       "      <td>...</td>\n",
       "      <td>False</td>\n",
       "      <td>False</td>\n",
       "      <td>learnprogramming</td>\n",
       "      <td>t5_2r7yd</td>\n",
       "      <td>NaN</td>\n",
       "      <td>NaN</td>\n",
       "      <td>default</td>\n",
       "      <td>[Java] Finding smallest value in an array</td>\n",
       "      <td>0.0</td>\n",
       "      <td>https://www.reddit.com/r/learnprogramming/comm...</td>\n",
       "    </tr>\n",
       "    <tr>\n",
       "      <th>4</th>\n",
       "      <td>NaN</td>\n",
       "      <td>NaN</td>\n",
       "      <td>False</td>\n",
       "      <td>caffeine_potent</td>\n",
       "      <td>NaN</td>\n",
       "      <td>NaN</td>\n",
       "      <td>False</td>\n",
       "      <td>1480697748</td>\n",
       "      <td>NaN</td>\n",
       "      <td>NaN</td>\n",
       "      <td>...</td>\n",
       "      <td>False</td>\n",
       "      <td>False</td>\n",
       "      <td>learnpython</td>\n",
       "      <td>t5_2r8ot</td>\n",
       "      <td>NaN</td>\n",
       "      <td>NaN</td>\n",
       "      <td>self</td>\n",
       "      <td>currying functions using functools</td>\n",
       "      <td>6.0</td>\n",
       "      <td>https://www.reddit.com/r/learnpython/comments/...</td>\n",
       "    </tr>\n",
       "  </tbody>\n",
       "</table>\n",
       "<p>5 rows × 53 columns</p>\n",
       "</div>"
      ],
      "text/plain": [
       "   adserver_click_url  adserver_imp_pixel  archived           author  \\\n",
       "0                 NaN                 NaN     False   johnnyawesome0   \n",
       "1                 NaN                 NaN     False     Silverfin113   \n",
       "2                 NaN                 NaN     False   bookbooksbooks   \n",
       "3                 NaN                 NaN     False        [deleted]   \n",
       "4                 NaN                 NaN     False  caffeine_potent   \n",
       "\n",
       "  author_flair_css_class author_flair_text  contest_mode  created_utc  \\\n",
       "0                    NaN               NaN         False   1480697304   \n",
       "1                    NaN               NaN         False   1480697424   \n",
       "2                    NaN               NaN         False   1480697613   \n",
       "3                    NaN               NaN         False   1480697634   \n",
       "4                    NaN               NaN         False   1480697748   \n",
       "\n",
       "   disable_comments distinguished  \\\n",
       "0               NaN           NaN   \n",
       "1               NaN           NaN   \n",
       "2               NaN           NaN   \n",
       "3               NaN           NaN   \n",
       "4               NaN           NaN   \n",
       "\n",
       "                         ...                         spoiler  stickied  \\\n",
       "0                        ...                           False     False   \n",
       "1                        ...                           False     False   \n",
       "2                        ...                           False     False   \n",
       "3                        ...                           False     False   \n",
       "4                        ...                           False     False   \n",
       "\n",
       "          subreddit  subreddit_id  third_party_tracking  \\\n",
       "0       techsupport      t5_2qioo                   NaN   \n",
       "1  learnprogramming      t5_2r7yd                   NaN   \n",
       "2           gamedev      t5_2qi0a                   NaN   \n",
       "3  learnprogramming      t5_2r7yd                   NaN   \n",
       "4       learnpython      t5_2r8ot                   NaN   \n",
       "\n",
       "   third_party_tracking_2 thumbnail  \\\n",
       "0                     NaN      self   \n",
       "1                     NaN      self   \n",
       "2                     NaN      self   \n",
       "3                     NaN   default   \n",
       "4                     NaN      self   \n",
       "\n",
       "                                               title   ups  \\\n",
       "0                             Help with audio set-up   1.0   \n",
       "1                          Optimizing code for speed  23.0   \n",
       "2  Seeking Tales of Development Woe (and Triumph)...  12.0   \n",
       "3          [Java] Finding smallest value in an array   0.0   \n",
       "4                 currying functions using functools   6.0   \n",
       "\n",
       "                                                 url  \n",
       "0  https://www.reddit.com/r/techsupport/comments/...  \n",
       "1  https://www.reddit.com/r/learnprogramming/comm...  \n",
       "2  https://www.reddit.com/r/gamedev/comments/5g4a...  \n",
       "3  https://www.reddit.com/r/learnprogramming/comm...  \n",
       "4  https://www.reddit.com/r/learnpython/comments/...  \n",
       "\n",
       "[5 rows x 53 columns]"
      ]
     },
     "execution_count": 4,
     "metadata": {},
     "output_type": "execute_result"
    }
   ],
   "source": [
    "df.head()"
   ]
  },
  {
   "cell_type": "code",
   "execution_count": 5,
   "metadata": {},
   "outputs": [
    {
     "data": {
      "text/plain": [
       "(26688, 53)"
      ]
     },
     "execution_count": 5,
     "metadata": {},
     "output_type": "execute_result"
    }
   ],
   "source": [
    "df.shape"
   ]
  },
  {
   "cell_type": "code",
   "execution_count": 6,
   "metadata": {},
   "outputs": [
    {
     "data": {
      "text/plain": [
       "Index(['adserver_click_url', 'adserver_imp_pixel', 'archived', 'author',\n",
       "       'author_flair_css_class', 'author_flair_text', 'contest_mode',\n",
       "       'created_utc', 'disable_comments', 'distinguished', 'domain', 'downs',\n",
       "       'edited', 'gilded', 'hide_score', 'href_url', 'id', 'imp_pixel',\n",
       "       'is_self', 'link_flair_css_class', 'link_flair_text', 'locked', 'media',\n",
       "       'media_embed', 'mobile_ad_url', 'name', 'num_comments', 'original_link',\n",
       "       'over_18', 'permalink', 'post_hint', 'preview', 'promoted',\n",
       "       'promoted_by', 'promoted_display_name', 'promoted_url', 'quarantine',\n",
       "       'retrieved_on', 'saved', 'score', 'secure_media', 'secure_media_embed',\n",
       "       'selftext', 'spoiler', 'stickied', 'subreddit', 'subreddit_id',\n",
       "       'third_party_tracking', 'third_party_tracking_2', 'thumbnail', 'title',\n",
       "       'ups', 'url'],\n",
       "      dtype='object')"
      ]
     },
     "execution_count": 6,
     "metadata": {},
     "output_type": "execute_result"
    }
   ],
   "source": [
    "df.columns"
   ]
  },
  {
   "cell_type": "code",
   "execution_count": 7,
   "metadata": {
    "scrolled": true
   },
   "outputs": [
    {
     "data": {
      "text/plain": [
       "self.techsupport          11423\n",
       "self.learnprogramming      3448\n",
       "self.learnpython           1724\n",
       "self.gamedev               1191\n",
       "self.technology            1152\n",
       "self.web_design             749\n",
       "self.Python                 566\n",
       "self.javahelp               536\n",
       "self.javascript             482\n",
       "self.linux                  465\n",
       "self.engineering            454\n",
       "self.csshelp                393\n",
       "self.iOSProgramming         315\n",
       "self.swift                  249\n",
       "youtube.com                 188\n",
       "self.PHP                    175\n",
       "self.computerscience        159\n",
       "self.compsci                147\n",
       "self.java                   138\n",
       "self.django                 124\n",
       "self.netsec                  97\n",
       "self.css                     94\n",
       "self.HTML                    85\n",
       "self.cpp                     83\n",
       "github.com                   75\n",
       "self.ruby                    72\n",
       "self.flask                   71\n",
       "youtu.be                     63\n",
       "i.redd.it                    58\n",
       "self.html5                   50\n",
       "                          ...  \n",
       "rtn.asia                      1\n",
       "testerstories.com             1\n",
       "wsmcr.org                     1\n",
       "python.org                    1\n",
       "codeforces.com                1\n",
       "gineersnow.com                1\n",
       "akrings.com                   1\n",
       "lambdaschool.com              1\n",
       "shuup.com                     1\n",
       "pocketnow.com                 1\n",
       "teespring.com                 1\n",
       "codevv.com                    1\n",
       "gizmodo.in                    1\n",
       "samkilg.us                    1\n",
       "dreamworth.tumblr.com         1\n",
       "tryolabs.com                  1\n",
       "outfresh.com                  1\n",
       "epis.bg                       1\n",
       "lists.infradead.org           1\n",
       "medium.dave-bailey.com        1\n",
       "centric.ae                    1\n",
       "china.org.cn                  1\n",
       "theayi.com                    1\n",
       "hrw.org                       1\n",
       "youthhealthmag.com            1\n",
       "tecmint.com                   1\n",
       "repl.it                       1\n",
       "bafflednerd.com               1\n",
       "bugs.chromium.org             1\n",
       "ftp.gnu.org                   1\n",
       "Name: domain, Length: 871, dtype: int64"
      ]
     },
     "execution_count": 7,
     "metadata": {},
     "output_type": "execute_result"
    }
   ],
   "source": [
    "df['domain'].value_counts()"
   ]
  },
  {
   "cell_type": "code",
   "execution_count": 8,
   "metadata": {
    "scrolled": true
   },
   "outputs": [
    {
     "data": {
      "text/plain": [
       "techsupport         11423\n",
       "learnprogramming     3448\n",
       "technology           2321\n",
       "learnpython          1724\n",
       "gamedev              1281\n",
       "web_design            864\n",
       "Python                603\n",
       "javascript            546\n",
       "linux                 545\n",
       "javahelp              536\n",
       "engineering           525\n",
       "csshelp               393\n",
       "iOSProgramming        330\n",
       "swift                 261\n",
       "programming           254\n",
       "PHP                   192\n",
       "computerscience       162\n",
       "netsec                159\n",
       "java                  157\n",
       "compsci               154\n",
       "django                127\n",
       "css                   106\n",
       "cpp                    86\n",
       "HTML                   85\n",
       "ruby                   77\n",
       "flask                  71\n",
       "html5                  62\n",
       "jquery                 46\n",
       "coding                 34\n",
       "pygame                 34\n",
       "perl                   24\n",
       "lisp                   16\n",
       "programmer             13\n",
       "dailyprogrammer        10\n",
       "IPython                 8\n",
       "inventwithpython        6\n",
       "pystats                 3\n",
       "pythoncoding            2\n",
       "Name: subreddit, dtype: int64"
      ]
     },
     "execution_count": 8,
     "metadata": {},
     "output_type": "execute_result"
    }
   ],
   "source": [
    "df['subreddit'].value_counts()"
   ]
  },
  {
   "cell_type": "code",
   "execution_count": 9,
   "metadata": {
    "scrolled": true
   },
   "outputs": [],
   "source": [
    "foo = df['name'].value_counts()"
   ]
  },
  {
   "cell_type": "code",
   "execution_count": 10,
   "metadata": {
    "scrolled": true
   },
   "outputs": [
    {
     "data": {
      "text/plain": [
       "t3_5ill5a    1\n",
       "t3_5i1js3    1\n",
       "t3_5jn17z    1\n",
       "t3_5kmjh6    1\n",
       "t3_5h334i    1\n",
       "t3_5j9azk    1\n",
       "t3_5jyqgp    1\n",
       "t3_5gtscb    1\n",
       "t3_5glf7q    1\n",
       "t3_5iet8x    1\n",
       "t3_5ko5n7    1\n",
       "t3_5gu2k0    1\n",
       "t3_5gpcxg    1\n",
       "t3_5inecn    1\n",
       "t3_5iwlnv    1\n",
       "t3_5inhzy    1\n",
       "t3_5kus9k    1\n",
       "t3_5k8egf    1\n",
       "t3_5gkf52    1\n",
       "t3_5hejdf    1\n",
       "t3_5hb7zm    1\n",
       "t3_5kr84c    1\n",
       "t3_5hzgh9    1\n",
       "t3_5kzkoc    1\n",
       "t3_5h7fm5    1\n",
       "t3_5k1ogl    1\n",
       "t3_5g0f7u    1\n",
       "t3_5kfbq7    1\n",
       "t3_5ftva1    1\n",
       "t3_5ixx06    1\n",
       "            ..\n",
       "t3_5imxfg    1\n",
       "t3_5iydpn    1\n",
       "t3_5jabog    1\n",
       "t3_5i47dj    1\n",
       "t3_5kr3ts    1\n",
       "t3_5hxmu9    1\n",
       "t3_5igv3s    1\n",
       "t3_5gdite    1\n",
       "t3_5gy0y6    1\n",
       "t3_5im8s5    1\n",
       "t3_5gpa84    1\n",
       "t3_5jenwm    1\n",
       "t3_5houzz    1\n",
       "t3_5j59bc    1\n",
       "t3_5iy9fx    1\n",
       "t3_5grcod    1\n",
       "t3_5hpqfa    1\n",
       "t3_5il5nf    1\n",
       "t3_5kqv54    1\n",
       "t3_5ii88b    1\n",
       "t3_5kbfy0    1\n",
       "t3_5jxlzl    1\n",
       "t3_5iied7    1\n",
       "t3_5hlgfe    1\n",
       "t3_5h82ie    1\n",
       "t3_5gi8c1    1\n",
       "t3_5kjzai    1\n",
       "t3_5j0vzk    1\n",
       "t3_5gznuo    1\n",
       "t3_5hjdv9    1\n",
       "Name: name, Length: 26688, dtype: int64"
      ]
     },
     "execution_count": 10,
     "metadata": {},
     "output_type": "execute_result"
    }
   ],
   "source": [
    "foo.sort_values(ascending=False)"
   ]
  },
  {
   "cell_type": "code",
   "execution_count": 11,
   "metadata": {},
   "outputs": [
    {
     "data": {
      "text/plain": [
       "[deleted]               5947\n",
       "wilsonharry              156\n",
       "AutoModerator             90\n",
       "ebpnovin                  58\n",
       "Hgbnty                    46\n",
       "angelovstanton            46\n",
       "metthewhayden             26\n",
       "kevindepp142              25\n",
       "RingSavvy                 20\n",
       "eastpointsoftware         19\n",
       "redditgizmos              17\n",
       "Sexual_Lettuce            17\n",
       "Ceasar_JL                 16\n",
       "Anonymously-Used          15\n",
       "llSourcell                15\n",
       "Xradam                    14\n",
       "GerrardSlippedHahaha      13\n",
       "WaterdotBottledot         12\n",
       "danny199234               12\n",
       "martinfisleburn           12\n",
       "denmarkf                  12\n",
       "oasis1272                 12\n",
       "RoboticPlayer             11\n",
       "printerstechsupport       11\n",
       "rms_returns               11\n",
       "sangramsate               10\n",
       "xlxs                      10\n",
       "connormcwood              10\n",
       "patientplatypus           10\n",
       "hanaee                    10\n",
       "                        ... \n",
       "helpmewithcodingpls        1\n",
       "Atticus_Goldfinch_         1\n",
       "nepalimob                  1\n",
       "Troubled-Adult             1\n",
       "TichuMaster                1\n",
       "Chi1                       1\n",
       "HeyItsFADE                 1\n",
       "AndyHexagon                1\n",
       "ekanite                    1\n",
       "geomachina                 1\n",
       "Defenestranded             1\n",
       "MrMisquito                 1\n",
       "atmontague                 1\n",
       "techwd                     1\n",
       "flawlessXII                1\n",
       "snackattas                 1\n",
       "mclarence                  1\n",
       "TrumpCthulhu2020           1\n",
       "shattered666x              1\n",
       "Boucherwayne78             1\n",
       "bolbsy                     1\n",
       "Konokoroko65               1\n",
       "sblakely                   1\n",
       "tofuyuki                   1\n",
       "pieanddanish               1\n",
       "gullypenguin               1\n",
       "hypumji                    1\n",
       "Hollow3ddd                 1\n",
       "FantasyPulser              1\n",
       "Goldy420                   1\n",
       "Name: author, Length: 16561, dtype: int64"
      ]
     },
     "execution_count": 11,
     "metadata": {},
     "output_type": "execute_result"
    }
   ],
   "source": [
    "df['author'].value_counts()"
   ]
  },
  {
   "cell_type": "code",
   "execution_count": 12,
   "metadata": {},
   "outputs": [
    {
     "data": {
      "text/plain": [
       "'Seeking Tales of Development Woe (and Triumph) for a Featured Article'"
      ]
     },
     "execution_count": 12,
     "metadata": {},
     "output_type": "execute_result"
    }
   ],
   "source": [
    "df['title'].head()[2]"
   ]
  },
  {
   "cell_type": "code",
   "execution_count": 13,
   "metadata": {
    "scrolled": false
   },
   "outputs": [
    {
     "data": {
      "text/plain": [
       "'I\\'m writing an article called \"Video Games That Almost Made the Devs Quit.\" It\\'s my first work for a site that gets more than 2 million unique visitors per month. \\n\\nEverybody knows the mediocre AAA games that were mired in development hell and could not have been much fun to work on (Duke Nukem Forever, Aliens: Colonial Marines, et cetera).\\n\\nI\\'ll include a few of them in my list (gotta \"play the hits\" sometimes). That said, I would prefer to use the platform to promote indie games. \\n\\nAre you a game developer with a story of development woe (and, at last, triumph) that you\\'d like to be read by millions? Let me know in the comments. \\n\\nWhat was the challenge that almost made you quit? How did you power through and solve the problem? If you couldn\\'t solve the problem, what did you finally do? \\n\\nIf your game is on Steam, please include a link to its store page and I\\'ll add it to my draft. (I can\\'t promise that they\\'ll publish it with the link included, but I\\'ll do my part.) I regret that I can\\'t promise to include everyone\\'s stories in this article.\\n\\nThat said, I plan on writing about indie gaming for a long time. So if your game isn\\'t mentioned in the article, it might be included in another article down the line.\\n\\nThanks,\\nC'"
      ]
     },
     "execution_count": 13,
     "metadata": {},
     "output_type": "execute_result"
    }
   ],
   "source": [
    "df['selftext'].head()[2]"
   ]
  },
  {
   "cell_type": "code",
   "execution_count": 14,
   "metadata": {},
   "outputs": [
    {
     "data": {
      "text/plain": [
       "'I\\'ve written what seems to be a prohibitively slow program where it is taking many minutes rather than seconds to read and write data from a database. It appears to be slowing down a great deal in my *runComparisons* method below although im unsure what steps I should take to correct this.\\n\\n**[full program](https://gist.github.com/anonymous/191f7fdbc009d029d41a9e07cec955a2)**\\n\\n     public static void runComparisons(String industryTitle, List&lt;String&gt; tickerName, TradingInterval tradingInterval) throws SQLException {\\n    \\n            // Get primary performance values ticker return\\n            for (String ticker : tickerName) {\\n                String startDate = tradingInterval.beginDate;\\n                //System.out.println(\"start date \" + startDate);\\n                String endDate = tradingInterval.endDate;\\n                //System.out.println(\"end date \" + endDate);\\n                PreparedStatement statement = conn.prepareStatement\\n                        (\"select P.TransDate, P.openPrice, P.closePrice\" +\\n                                \" from PriceVolume P\" +\\n                                \" where Ticker = ? and TransDate&gt;= ? and TransDate &lt;= ?\" +\\n                                \"order by TransDate DESC\");\\n    \\n                statement.setString(1, ticker);\\n                statement.setString(2, startDate);\\n                statement.setString(3, endDate);\\n                ResultSet result = statement.executeQuery();\\n    \\n                String date;\\n                double nextOpenPrice = 0.0;\\n                double currentClosePrice;\\n                //int numberDays = 1;\\n                //int splitCounter = 0;\\n                double divideAmount = 1;\\n                String tickerSymbol = \"\";\\n    \\n                // create list to contain dates for use in investment strategy\\n                ArrayList&lt;holdSplitVals&gt; ascendingList = new ArrayList&lt;&gt;();\\n    \\n    \\n                // process result set\\n                while (result.next()) {\\n                    //tickerSymbol = result.getString(\"Ticker\");\\n                    // reset split amount for next iteration\\n                    date = result.getString(\"TransDate\");\\n                    double openPrice = result.getDouble(\"OpenPrice\");\\n                    double closePrice = result.getDouble(\"ClosePrice\");\\n    \\n    \\n                    currentClosePrice = closePrice;\\n                    // get closing/opening ratio\\n    \\n                    double splitAmount = getRatios(date, nextOpenPrice, currentClosePrice);\\n    \\n    \\n                    if (splitAmount &gt; 0) {\\n                        divideAmount = divideAmount * splitAmount;\\n                        //splitCounter++;\\n                    }\\n    \\n                    // hold data in helper class\\n                    holdSplitVals data = new holdSplitVals();\\n                    data.date = date;\\n                    data.openPrice = openPrice / divideAmount;\\n                    data.closePrice = closePrice / divideAmount;\\n    \\n                    ascendingList.add(0, data);\\n    \\n                    nextOpenPrice = openPrice;\\n    \\n                    if (ascendingList.size() &gt;= 1) {\\n    \\n                        outputTable(closePrice, openPrice, industryTitle, tickerSymbol, startDate, endDate);\\n    \\n                    }\\n                }\\n            }\\n        }\\n    \\n        private static void outputTable(double closePrice, double openPrice, String industryTitle, String tickerSymbol, String startDate, String endDate) throws SQLException {\\n            double tickerNumber = (closePrice / openPrice) - 1;\\n            DecimalFormat df = new DecimalFormat(\"#.####\");\\n            df.setRoundingMode(RoundingMode.CEILING);\\n            String tickerNum = df.format(tickerNumber);\\n    \\n            PreparedStatement writeStatement = writerconn.prepareStatement(\\n                    \"insert into Performance(Industry, Ticker, StartDate, EndDate, TickerReturn)\"\\n                            + \"values(?, ?, ?, ?, ?)\");\\n            writeStatement.setString(1, industryTitle);\\n            writeStatement.setString(2, tickerSymbol);\\n            writeStatement.setString(3, startDate);\\n            writeStatement.setString(4, endDate);\\n            writeStatement.setString(5, tickerNum);\\n    \\n            writeStatement.executeUpdate();\\n        }\\n    \\n        private static double getRatios(String date, double nextOpenPrice, double currentClosePrice) {\\n            double coRatio = currentClosePrice / nextOpenPrice;\\n            // calculate splits\\n            // for 2:1 split\\n            if (Math.abs(coRatio - 2.0) &lt; 0.20) {\\n                //splitCounter++;\\n                //splitDate = (\"2:1 split on \" + date);\\n                //System.out.println(\"2:1 split on \" + date + \" \" + currentClosePrice + \"--&gt; \" + nextOpenPrice);\\n                return 2.0;\\n                // for 3:1 split\\n            } else if (Math.abs(coRatio - 3.0) &lt; 0.20) {\\n                //splitCounter++;\\n                //splitDate = (\"3:1 split on \"+ date);\\n                //System.out.println(\"3:1 split on \" + date + \" \" + currentClosePrice + \"--&gt; \" + nextOpenPrice);\\n                return 3.0;\\n                // for 3:2 split\\n            } else if (Math.abs(coRatio - 1.5) &lt; 0.15) {\\n                //splitCounter++;\\n                //splitDate = (\"3:2 split on \" + date);\\n                //System.out.println(\"3:2 split on \" + date + \" \" + currentClosePrice + \"--&gt; \" + nextOpenPrice);\\n                return 1.5;\\n            }\\n            return 0;\\n        }\\n    }'"
      ]
     },
     "execution_count": 14,
     "metadata": {},
     "output_type": "execute_result"
    }
   ],
   "source": [
    "df['selftext'].head()[1]"
   ]
  },
  {
   "cell_type": "code",
   "execution_count": 15,
   "metadata": {},
   "outputs": [],
   "source": [
    "from sklearn.feature_extraction.text import CountVectorizer"
   ]
  },
  {
   "cell_type": "code",
   "execution_count": 16,
   "metadata": {},
   "outputs": [],
   "source": [
    "CV = CountVectorizer()"
   ]
  },
  {
   "cell_type": "code",
   "execution_count": 17,
   "metadata": {},
   "outputs": [],
   "source": [
    "foo = list(df['selftext'].head()[1:3])"
   ]
  },
  {
   "cell_type": "code",
   "execution_count": 18,
   "metadata": {},
   "outputs": [
    {
     "data": {
      "text/plain": [
       "<2x275 sparse matrix of type '<class 'numpy.int64'>'\n",
       "\twith 294 stored elements in Compressed Sparse Row format>"
      ]
     },
     "execution_count": 18,
     "metadata": {},
     "output_type": "execute_result"
    }
   ],
   "source": [
    "CV.fit_transform(foo)"
   ]
  },
  {
   "cell_type": "code",
   "execution_count": 19,
   "metadata": {},
   "outputs": [
    {
     "data": {
      "text/plain": [
       "{'15': 0,\n",
       " '191f7fdbc009d029d41a9e07cec955a2': 1,\n",
       " '20': 2,\n",
       " 'aaa': 3,\n",
       " 'about': 4,\n",
       " 'abs': 5,\n",
       " 'add': 6,\n",
       " 'aliens': 7,\n",
       " 'almost': 8,\n",
       " 'although': 9,\n",
       " 'amount': 10,\n",
       " 'an': 11,\n",
       " 'and': 12,\n",
       " 'anonymous': 13,\n",
       " 'another': 14,\n",
       " 'appears': 15,\n",
       " 'are': 16,\n",
       " 'arraylist': 17,\n",
       " 'article': 18,\n",
       " 'ascendinglist': 19,\n",
       " 'at': 20,\n",
       " 'be': 21,\n",
       " 'been': 22,\n",
       " 'begindate': 23,\n",
       " 'below': 24,\n",
       " 'but': 25,\n",
       " 'by': 26,\n",
       " 'calculate': 27,\n",
       " 'called': 28,\n",
       " 'can': 29,\n",
       " 'ceiling': 30,\n",
       " 'cetera': 31,\n",
       " 'challenge': 32,\n",
       " 'class': 33,\n",
       " 'closeprice': 34,\n",
       " 'closing': 35,\n",
       " 'colonial': 36,\n",
       " 'com': 37,\n",
       " 'comments': 38,\n",
       " 'conn': 39,\n",
       " 'contain': 40,\n",
       " 'coratio': 41,\n",
       " 'correct': 42,\n",
       " 'could': 43,\n",
       " 'couldn': 44,\n",
       " 'create': 45,\n",
       " 'currentcloseprice': 46,\n",
       " 'data': 47,\n",
       " 'database': 48,\n",
       " 'date': 49,\n",
       " 'dates': 50,\n",
       " 'deal': 51,\n",
       " 'decimalformat': 52,\n",
       " 'desc': 53,\n",
       " 'developer': 54,\n",
       " 'development': 55,\n",
       " 'devs': 56,\n",
       " 'df': 57,\n",
       " 'did': 58,\n",
       " 'divideamount': 59,\n",
       " 'do': 60,\n",
       " 'double': 61,\n",
       " 'down': 62,\n",
       " 'draft': 63,\n",
       " 'duke': 64,\n",
       " 'else': 65,\n",
       " 'end': 66,\n",
       " 'enddate': 67,\n",
       " 'et': 68,\n",
       " 'everybody': 69,\n",
       " 'everyone': 70,\n",
       " 'executequery': 71,\n",
       " 'executeupdate': 72,\n",
       " 'few': 73,\n",
       " 'finally': 74,\n",
       " 'first': 75,\n",
       " 'for': 76,\n",
       " 'forever': 77,\n",
       " 'format': 78,\n",
       " 'from': 79,\n",
       " 'full': 80,\n",
       " 'fun': 81,\n",
       " 'game': 82,\n",
       " 'games': 83,\n",
       " 'gaming': 84,\n",
       " 'get': 85,\n",
       " 'getdouble': 86,\n",
       " 'getratios': 87,\n",
       " 'gets': 88,\n",
       " 'getstring': 89,\n",
       " 'gist': 90,\n",
       " 'github': 91,\n",
       " 'gotta': 92,\n",
       " 'great': 93,\n",
       " 'gt': 94,\n",
       " 'have': 95,\n",
       " 'hell': 96,\n",
       " 'helper': 97,\n",
       " 'hits': 98,\n",
       " 'hold': 99,\n",
       " 'holdsplitvals': 100,\n",
       " 'how': 101,\n",
       " 'https': 102,\n",
       " 'if': 103,\n",
       " 'im': 104,\n",
       " 'in': 105,\n",
       " 'include': 106,\n",
       " 'included': 107,\n",
       " 'indie': 108,\n",
       " 'industry': 109,\n",
       " 'industrytitle': 110,\n",
       " 'insert': 111,\n",
       " 'int': 112,\n",
       " 'into': 113,\n",
       " 'investment': 114,\n",
       " 'is': 115,\n",
       " 'isn': 116,\n",
       " 'it': 117,\n",
       " 'iteration': 118,\n",
       " 'its': 119,\n",
       " 'know': 120,\n",
       " 'knows': 121,\n",
       " 'last': 122,\n",
       " 'let': 123,\n",
       " 'like': 124,\n",
       " 'line': 125,\n",
       " 'link': 126,\n",
       " 'list': 127,\n",
       " 'll': 128,\n",
       " 'long': 129,\n",
       " 'lt': 130,\n",
       " 'made': 131,\n",
       " 'many': 132,\n",
       " 'marines': 133,\n",
       " 'math': 134,\n",
       " 'me': 135,\n",
       " 'mediocre': 136,\n",
       " 'mentioned': 137,\n",
       " 'method': 138,\n",
       " 'might': 139,\n",
       " 'million': 140,\n",
       " 'millions': 141,\n",
       " 'minutes': 142,\n",
       " 'mired': 143,\n",
       " 'month': 144,\n",
       " 'more': 145,\n",
       " 'much': 146,\n",
       " 'my': 147,\n",
       " 'new': 148,\n",
       " 'next': 149,\n",
       " 'nextopenprice': 150,\n",
       " 'not': 151,\n",
       " 'nukem': 152,\n",
       " 'numberdays': 153,\n",
       " 'of': 154,\n",
       " 'on': 155,\n",
       " 'opening': 156,\n",
       " 'openprice': 157,\n",
       " 'order': 158,\n",
       " 'out': 159,\n",
       " 'outputtable': 160,\n",
       " 'page': 161,\n",
       " 'part': 162,\n",
       " 'per': 163,\n",
       " 'performance': 164,\n",
       " 'plan': 165,\n",
       " 'platform': 166,\n",
       " 'play': 167,\n",
       " 'please': 168,\n",
       " 'power': 169,\n",
       " 'prefer': 170,\n",
       " 'preparedstatement': 171,\n",
       " 'preparestatement': 172,\n",
       " 'pricevolume': 173,\n",
       " 'primary': 174,\n",
       " 'println': 175,\n",
       " 'private': 176,\n",
       " 'problem': 177,\n",
       " 'process': 178,\n",
       " 'program': 179,\n",
       " 'prohibitively': 180,\n",
       " 'promise': 181,\n",
       " 'promote': 182,\n",
       " 'public': 183,\n",
       " 'publish': 184,\n",
       " 'quit': 185,\n",
       " 'rather': 186,\n",
       " 'ratio': 187,\n",
       " 'read': 188,\n",
       " 'regret': 189,\n",
       " 'reset': 190,\n",
       " 'result': 191,\n",
       " 'resultset': 192,\n",
       " 'return': 193,\n",
       " 'roundingmode': 194,\n",
       " 'runcomparisons': 195,\n",
       " 'said': 196,\n",
       " 'seconds': 197,\n",
       " 'seems': 198,\n",
       " 'select': 199,\n",
       " 'set': 200,\n",
       " 'setroundingmode': 201,\n",
       " 'setstring': 202,\n",
       " 'should': 203,\n",
       " 'site': 204,\n",
       " 'size': 205,\n",
       " 'slow': 206,\n",
       " 'slowing': 207,\n",
       " 'so': 208,\n",
       " 'solve': 209,\n",
       " 'sometimes': 210,\n",
       " 'split': 211,\n",
       " 'splitamount': 212,\n",
       " 'splitcounter': 213,\n",
       " 'splitdate': 214,\n",
       " 'splits': 215,\n",
       " 'sqlexception': 216,\n",
       " 'start': 217,\n",
       " 'startdate': 218,\n",
       " 'statement': 219,\n",
       " 'static': 220,\n",
       " 'steam': 221,\n",
       " 'steps': 222,\n",
       " 'store': 223,\n",
       " 'stories': 224,\n",
       " 'story': 225,\n",
       " 'strategy': 226,\n",
       " 'string': 227,\n",
       " 'system': 228,\n",
       " 'take': 229,\n",
       " 'taking': 230,\n",
       " 'than': 231,\n",
       " 'thanks': 232,\n",
       " 'that': 233,\n",
       " 'the': 234,\n",
       " 'them': 235,\n",
       " 'they': 236,\n",
       " 'this': 237,\n",
       " 'through': 238,\n",
       " 'throws': 239,\n",
       " 'ticker': 240,\n",
       " 'tickername': 241,\n",
       " 'tickernum': 242,\n",
       " 'tickernumber': 243,\n",
       " 'tickerreturn': 244,\n",
       " 'tickersymbol': 245,\n",
       " 'time': 246,\n",
       " 'to': 247,\n",
       " 'tradinginterval': 248,\n",
       " 'transdate': 249,\n",
       " 'triumph': 250,\n",
       " 'unique': 251,\n",
       " 'unsure': 252,\n",
       " 'use': 253,\n",
       " 'values': 254,\n",
       " 've': 255,\n",
       " 'video': 256,\n",
       " 'visitors': 257,\n",
       " 'void': 258,\n",
       " 'was': 259,\n",
       " 'were': 260,\n",
       " 'what': 261,\n",
       " 'where': 262,\n",
       " 'while': 263,\n",
       " 'with': 264,\n",
       " 'woe': 265,\n",
       " 'work': 266,\n",
       " 'would': 267,\n",
       " 'write': 268,\n",
       " 'writerconn': 269,\n",
       " 'writestatement': 270,\n",
       " 'writing': 271,\n",
       " 'written': 272,\n",
       " 'you': 273,\n",
       " 'your': 274}"
      ]
     },
     "execution_count": 19,
     "metadata": {},
     "output_type": "execute_result"
    }
   ],
   "source": [
    "CV.vocabulary_"
   ]
  },
  {
   "cell_type": "code",
   "execution_count": 20,
   "metadata": {
    "scrolled": true
   },
   "outputs": [
    {
     "data": {
      "text/plain": [
       "0       NaN\n",
       "1       NaN\n",
       "2       NaN\n",
       "3       NaN\n",
       "4       NaN\n",
       "5       NaN\n",
       "6       NaN\n",
       "7       NaN\n",
       "8       NaN\n",
       "9       NaN\n",
       "10      NaN\n",
       "11      NaN\n",
       "12      NaN\n",
       "13      NaN\n",
       "14      NaN\n",
       "15      NaN\n",
       "16      NaN\n",
       "17      NaN\n",
       "18      NaN\n",
       "19      NaN\n",
       "20      NaN\n",
       "21      NaN\n",
       "22      NaN\n",
       "23      NaN\n",
       "24      NaN\n",
       "25      NaN\n",
       "26      NaN\n",
       "27      NaN\n",
       "28      NaN\n",
       "29      NaN\n",
       "         ..\n",
       "26658   NaN\n",
       "26659   NaN\n",
       "26660   NaN\n",
       "26661   NaN\n",
       "26662   NaN\n",
       "26663   NaN\n",
       "26664   NaN\n",
       "26665   NaN\n",
       "26666   NaN\n",
       "26667   NaN\n",
       "26668   NaN\n",
       "26669   NaN\n",
       "26670   NaN\n",
       "26671   NaN\n",
       "26672   NaN\n",
       "26673   NaN\n",
       "26674   NaN\n",
       "26675   NaN\n",
       "26676   NaN\n",
       "26677   NaN\n",
       "26678   NaN\n",
       "26679   NaN\n",
       "26680   NaN\n",
       "26681   NaN\n",
       "26682   NaN\n",
       "26683   NaN\n",
       "26684   NaN\n",
       "26685   NaN\n",
       "26686   NaN\n",
       "26687   NaN\n",
       "Name: promoted_url, Length: 26688, dtype: float64"
      ]
     },
     "execution_count": 20,
     "metadata": {},
     "output_type": "execute_result"
    }
   ],
   "source": [
    "df['promoted_url']"
   ]
  },
  {
   "cell_type": "markdown",
   "metadata": {},
   "source": [
    "# Setting X"
   ]
  },
  {
   "cell_type": "code",
   "execution_count": 25,
   "metadata": {},
   "outputs": [],
   "source": [
    "X = df[['selftext', 'title']]"
   ]
  },
  {
   "cell_type": "markdown",
   "metadata": {},
   "source": [
    "# Creating unsupervised LDA model"
   ]
  },
  {
   "cell_type": "code",
   "execution_count": 31,
   "metadata": {},
   "outputs": [],
   "source": [
    "class FeatureExtractor(BaseEstimator, TransformerMixin):\n",
    "    \"\"\"\n",
    "    Accepts a single column and returns the column as a numpy array.\n",
    "    \"\"\"\n",
    "    def __init__(self, column):\n",
    "        self.column = column \n",
    "        \n",
    "    def fit(self, X, y=None):\n",
    "        return self \n",
    "    \n",
    "    def transform(self, X, y=None):\n",
    "        return X[self.column]"
   ]
  },
  {
   "cell_type": "code",
   "execution_count": 34,
   "metadata": {},
   "outputs": [],
   "source": [
    "selftext_pipe = make_pipeline(\n",
    "FeatureExtractor('selftext'),\n",
    "CountVectorizer(stop_words='english'),\n",
    "FunctionTransformer(lambda x: x.todense(), accept_sparse=True)\n",
    ")\n",
    "\n",
    "title_pipe = make_pipeline(\n",
    "FeatureExtractor('title'),\n",
    "CountVectorizer(stop_words='english'),\n",
    "FunctionTransformer(lambda x: x.todense(), accept_sparse=True)\n",
    ")\n",
    "\n",
    "fu = make_union(selftext_pipe, title_pipe)\n",
    "\n",
    "model_pipe = make_pipeline(\n",
    "fu,\n",
    "LatentDirichletAllocation(n_components=10))\n"
   ]
  },
  {
   "cell_type": "code",
   "execution_count": 35,
   "metadata": {},
   "outputs": [
    {
     "name": "stderr",
     "output_type": "stream",
     "text": [
      "/Users/Hallie/anaconda3/lib/python3.6/site-packages/sklearn/decomposition/online_lda.py:536: DeprecationWarning: The default value for 'learning_method' will be changed from 'online' to 'batch' in the release 0.20. This warning was introduced in 0.18.\n",
      "  DeprecationWarning)\n"
     ]
    },
    {
     "data": {
      "text/plain": [
       "Pipeline(memory=None,\n",
       "     steps=[('featureunion', FeatureUnion(n_jobs=1,\n",
       "       transformer_list=[('pipeline-1', Pipeline(memory=None,\n",
       "     steps=[('featureextractor', FeatureExtractor(column='selftext')), ('countvectorizer', CountVectorizer(analyzer='word', binary=False, decode_error='strict',\n",
       "        dtype=<class 'numpy.in...ol=0.1, random_state=None,\n",
       "             topic_word_prior=None, total_samples=1000000.0, verbose=0))])"
      ]
     },
     "execution_count": 35,
     "metadata": {},
     "output_type": "execute_result"
    }
   ],
   "source": [
    "model_pipe.fit(X)"
   ]
  },
  {
   "cell_type": "code",
   "execution_count": 43,
   "metadata": {},
   "outputs": [
    {
     "ename": "AttributeError",
     "evalue": "'Pipeline' object has no attribute 'components_'",
     "output_type": "error",
     "traceback": [
      "\u001b[0;31m---------------------------------------------------------------------------\u001b[0m",
      "\u001b[0;31mAttributeError\u001b[0m                            Traceback (most recent call last)",
      "\u001b[0;32m<ipython-input-43-9f4224e8edbb>\u001b[0m in \u001b[0;36m<module>\u001b[0;34m()\u001b[0m\n\u001b[1;32m      1\u001b[0m \u001b[0mfeature_names\u001b[0m \u001b[0;34m=\u001b[0m \u001b[0mLatentDirichletAllocation\u001b[0m\u001b[0;34m.\u001b[0m\u001b[0mmro\u001b[0m\u001b[0;34m\u001b[0m\u001b[0m\n\u001b[0;32m----> 2\u001b[0;31m results = pd.DataFrame(model_pipe.components_,\n\u001b[0m\u001b[1;32m      3\u001b[0m                       columns=feature_names)\n",
      "\u001b[0;31mAttributeError\u001b[0m: 'Pipeline' object has no attribute 'components_'"
     ]
    }
   ],
   "source": [
    "feature_names = LatentDirichletAllocation.mro\n",
    "results = pd.DataFrame(model_pipe.components_,\n",
    "                      columns=feature_names)"
   ]
  },
  {
   "cell_type": "code",
   "execution_count": null,
   "metadata": {},
   "outputs": [],
   "source": [
    "cv = CountVectorizer(stop_words='english')\n",
    "cv.fit(df['text'])\n",
    "X = cv.transform(df['text'])\n",
    "feature_names = cv.get_feature_names()\n",
    "\n",
    "lda = LatentDirichletAllocation(n_components=10)\n",
    "lda.fit(X)\n",
    "\n",
    "results = pd.DataFrame(lda.components_,\n",
    "                      columns=feature_names)\n",
    "\n",
    "for topic in range(10):\n",
    "    print('Topic', topic)\n",
    "    word_list = results.T[topic].sort_values(ascending=False).index\n",
    "    print(' '.join(word_list[0:25]), '\\n')"
   ]
  }
 ],
 "metadata": {
  "kernelspec": {
   "display_name": "Python 3",
   "language": "python",
   "name": "python3"
  },
  "language_info": {
   "codemirror_mode": {
    "name": "ipython",
    "version": 3
   },
   "file_extension": ".py",
   "mimetype": "text/x-python",
   "name": "python",
   "nbconvert_exporter": "python",
   "pygments_lexer": "ipython3",
   "version": "3.6.3"
  }
 },
 "nbformat": 4,
 "nbformat_minor": 2
}
